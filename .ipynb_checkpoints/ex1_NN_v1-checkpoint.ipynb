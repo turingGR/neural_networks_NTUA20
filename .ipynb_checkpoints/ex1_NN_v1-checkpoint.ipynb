{
 "cells": [
  {
   "cell_type": "markdown",
   "metadata": {},
   "source": [
    "# <center><font color='orange'>ΑΣΚΗΣΗ 1 </font>`| Επιβλεπόμενη Μάθηση : Ταξινόμηση`<center>\n",
    "<p style=\"text-align: right;\"><font color='grey'>\n",
    "Εργαστήριο Τεχνητής Νοημοσύνης και Μηχανικής Μάθησης\n",
    "<br>\n",
    "Νευρωνικά Δίκτυα και Ευφυή Υπολογιστικά Συστήματα\n",
    "</font>\n",
    "<br><br>\n",
    "`Ευδοκία Μπαρουξή` (*16586*) | `Τζανακάκης Γιάννης` (*14436*)\n",
    "</p>"
   ]
  },
  {
   "cell_type": "markdown",
   "metadata": {},
   "source": [
    "# Εισαγωγή\n",
    "Σκοπός της παρούσας εργασίας είναι η εξοικείωση με έννοιες και η εφαρμογή μεθόδων της Επιβλεπόμενης Μηχανικής Μάθησης για το `Classification` (Ταξινόμηση, Κατηγοριοποίηση) δεδομένων ως προς ένα σύνολο γνωρισμάτων/μεταβλητών, καθώς και η σύνταξη μιας παρουσίασης της παραπάνω εφαρμογής, με χρήση markdown formatting, στο περιβάλλον του `Jupyter`.\n",
    "\n",
    "Για την ανάλυση , θα χρησιμοποιηθούν 2 σύνολα δεδομένων (διαφορετικού μεγέθους), από τη συλλογή του `UCI Machine Learning Repository`, κάτω από το σύνδεσμο: https://archive.ics.uci.edu/ml/datasets/\n",
    "\n",
    "Ο παρακάτω πίνακας περιέχει κάποιες βασικές πληροφορίες για τα 2 datasets που ανατέθηκαν στην ομάδα μας:\n",
    "\n",
    "| Όνομα | Πεδίο | Στιγμιότυπα | Μεταβλητές | Πεδίο Τιμών | NAs |\n",
    "|:-:|:-:|:-:|:-:|:-:|:-:|\n",
    "| Ionosphere | Φυσική | 351 | 34 | Πραγματικοί | Όχι |\n",
    "| Isolet | Computing | 7797 | 617 | Πραγματικοί | Οχι |\n",
    "Καλούμαστε να βρούμε για κάθε classifier (πέρα από τους dummy) σε κάθε dataset:\n",
    "<br>\n",
    ">1. Τη `βέλτιστη αρχιτεκτονική μετασχηματιστών` (στάδια προ-επεξεργασίας).\n",
    ">\n",
    ">2. Τις `βέλτιστες υπερ-παραμέτρους` μέσω grid search και cross validation.\n",
    "<br>\n",
    "\n",
    "Το Κεφάλαιο 1 αναφέρεται στην ανάλυση του Ionosphere Dataset (small dataset) και το Κεφάλαιο 2 στη μελέτη του Isolet Dataset (big dataset), αντίστοιχα. Αναλυτικότερα τα Κεφάλαια και οι παράγραφοι, αναφέρονται στον πίνακα περιεχομένων της παρουσίασης.\n",
    "\n",
    "Για τον κώδικά μας, χρησιμοποιήσαμε τη `standard` ονοματοδοσία (ακόμη και των μεταβλητών όπου υπάρχει τέτοια) που συναντήσαμε στα πλέον δημοφιλή -σχετικά με το αντικείμενο- sites/forums στο διαδίκτυο (https://www.geeksforgeeks.org/ ,https://stackoverflow.com/, https://www.kaggle.com/, https://towardsdatascience.com/, https://www.w3schools.com/ κα).\n",
    "\n",
    "Στο πλαίσιο των απαιτήσεων της εργασίας παραλείπουμε την αναλυτική αναφορά σε πηγές."
   ]
  },
  {
   "cell_type": "markdown",
   "metadata": {},
   "source": [
    "# Ionosphere Dataset\n",
    "\n",
    "Λίγα λόγια για την προέλευση των δεδομένων:\n",
    "\n",
    "Τα δεδομένα του `Ionosphere` dataset, συλλέχθηκαν από ένα **τηλεπικοινωνιακό σύστημα** στο Goose Bay, Labrador. Το σύστημα περιελάμβανε **συστοιχία 16 κεραιών υψηλών συχνοτήτων**, με δυνατότητα εκπομπής ισχύος της τάξης των 6.5 kW. Στόχος ήταν τα **ελεύθερα ηλεκτρόνια στην Ιονόσφαιρα** του πλανήτη μας. Τα εκπομπόμενα σήματα που επέστρεφαν στη γη, κατηγοριοποιούνταν ως \"**καλά**\", αφού μαρτυρουσαν ύπαρξη δομής στην Ιονόσφαιρα. Αντίθετα, τα σήματα που δεν επέστρεφαν στη γη χαρακτηρίζονταν ως \"**κακά**\". Η στήλη class του dataframe, με τιμές στο δισύνολο {b,g} αποτελεί την κωδικοποίηση του εν λόγω χαρακτηρισμού. \n",
    "\n",
    "Τα σήματα που επέστρεφαν, επεξεργάζονταν μέσω μιας συνάρτησης παλινδρόμησης με ορίσματα τον **χρόνο** και τον **κωδικό** ενός εκπομπόμενου **παλμού**. Υπήρχαν συνολικά 17 διαφορετικοί παλμοί στο σύστημα. Τα στιγμιότυπα (γραμμές) του dataframe περιγράφονται από 2 τιμές για καθέναν από τους 17 παλμούς (2 τιμές για κωδικοποίηση του ηλεκτρομαγνητικού κύματος -μιγαδικό σήμα- που επρόκειτο να εκπέμψει ο παλμός). \n",
    "\n",
    "`Παραχωρήθηκε από:`\n",
    "\n",
    "*Space Physics Group\n",
    "<br>\n",
    "Applied Physics Laboratory\n",
    "<br>\n",
    "Johns Hopkins University*\n",
    "\n",
    "\n",
    "`Σχετικό Άρθρο:`\n",
    "\n",
    "*Sigillito, V. G., Wing, S. P., Hutton, L. V., \\& Baker, K. B. (1989).\n",
    "<br>\n",
    "Classification of radar returns from the ionosphere using neural networks.\n",
    "<br>\n",
    "Johns Hopkins APL Technical Digest, 10, 262-266*."
   ]
  },
  {
   "cell_type": "markdown",
   "metadata": {},
   "source": [
    "## Προεπεξεργασία του Dataset"
   ]
  },
  {
   "cell_type": "code",
   "execution_count": 1,
   "metadata": {},
   "outputs": [],
   "source": [
    "import numpy as np\n",
    "import pandas as pd\n",
    "import seaborn as sns\n",
    "import matplotlib.pyplot as plt"
   ]
  },
  {
   "cell_type": "markdown",
   "metadata": {},
   "source": [
    "### Μια πρώτη ματιά\n",
    "\n",
    "Το dataframe περιέχει **35 στήλες**-attributes. Δύο για κάθε παλμό -όπως περιγράφηκε παραπάνω- άρα $2\\cdot17=34$ στήλες καθώς και τη στήλη της κατηγορίοποίησης του κάθε στιγμιοτύπου. Ξεκινούμε την εξερεύνηση του dataset, τυπώνοντας μια στατιστική περίληψη των attributes:"
   ]
  },
  {
   "cell_type": "code",
   "execution_count": 3,
   "metadata": {
    "_cell_guid": "79c7e3d0-c299-4dcb-8224-4455121ee9b0",
    "_uuid": "d629ff2d2480ee46fbb7e2d37f6b5fab8052498a"
   },
   "outputs": [
    {
     "data": {
      "text/html": [
       "<div>\n",
       "<style scoped>\n",
       "    .dataframe tbody tr th:only-of-type {\n",
       "        vertical-align: middle;\n",
       "    }\n",
       "\n",
       "    .dataframe tbody tr th {\n",
       "        vertical-align: top;\n",
       "    }\n",
       "\n",
       "    .dataframe thead th {\n",
       "        text-align: right;\n",
       "    }\n",
       "</style>\n",
       "<table border=\"1\" class=\"dataframe\">\n",
       "  <thead>\n",
       "    <tr style=\"text-align: right;\">\n",
       "      <th></th>\n",
       "      <th>a01</th>\n",
       "      <th>a02</th>\n",
       "      <th>a03</th>\n",
       "      <th>a04</th>\n",
       "      <th>a05</th>\n",
       "      <th>a06</th>\n",
       "      <th>a07</th>\n",
       "      <th>a08</th>\n",
       "      <th>a09</th>\n",
       "      <th>a10</th>\n",
       "      <th>...</th>\n",
       "      <th>a25</th>\n",
       "      <th>a26</th>\n",
       "      <th>a27</th>\n",
       "      <th>a28</th>\n",
       "      <th>a29</th>\n",
       "      <th>a30</th>\n",
       "      <th>a31</th>\n",
       "      <th>a32</th>\n",
       "      <th>a33</th>\n",
       "      <th>a34</th>\n",
       "    </tr>\n",
       "  </thead>\n",
       "  <tbody>\n",
       "    <tr>\n",
       "      <th>count</th>\n",
       "      <td>351.000000</td>\n",
       "      <td>351.0</td>\n",
       "      <td>351.000000</td>\n",
       "      <td>351.000000</td>\n",
       "      <td>351.000000</td>\n",
       "      <td>351.000000</td>\n",
       "      <td>351.000000</td>\n",
       "      <td>351.000000</td>\n",
       "      <td>351.000000</td>\n",
       "      <td>351.000000</td>\n",
       "      <td>...</td>\n",
       "      <td>351.000000</td>\n",
       "      <td>351.000000</td>\n",
       "      <td>351.000000</td>\n",
       "      <td>351.000000</td>\n",
       "      <td>351.000000</td>\n",
       "      <td>351.000000</td>\n",
       "      <td>351.000000</td>\n",
       "      <td>351.000000</td>\n",
       "      <td>351.000000</td>\n",
       "      <td>351.000000</td>\n",
       "    </tr>\n",
       "    <tr>\n",
       "      <th>mean</th>\n",
       "      <td>0.891738</td>\n",
       "      <td>0.0</td>\n",
       "      <td>0.641342</td>\n",
       "      <td>0.044372</td>\n",
       "      <td>0.601068</td>\n",
       "      <td>0.115889</td>\n",
       "      <td>0.550095</td>\n",
       "      <td>0.119360</td>\n",
       "      <td>0.511848</td>\n",
       "      <td>0.181345</td>\n",
       "      <td>...</td>\n",
       "      <td>0.396135</td>\n",
       "      <td>-0.071187</td>\n",
       "      <td>0.541641</td>\n",
       "      <td>-0.069538</td>\n",
       "      <td>0.378445</td>\n",
       "      <td>-0.027907</td>\n",
       "      <td>0.352514</td>\n",
       "      <td>-0.003794</td>\n",
       "      <td>0.349364</td>\n",
       "      <td>0.014480</td>\n",
       "    </tr>\n",
       "    <tr>\n",
       "      <th>std</th>\n",
       "      <td>0.311155</td>\n",
       "      <td>0.0</td>\n",
       "      <td>0.497708</td>\n",
       "      <td>0.441435</td>\n",
       "      <td>0.519862</td>\n",
       "      <td>0.460810</td>\n",
       "      <td>0.492654</td>\n",
       "      <td>0.520750</td>\n",
       "      <td>0.507066</td>\n",
       "      <td>0.483851</td>\n",
       "      <td>...</td>\n",
       "      <td>0.578451</td>\n",
       "      <td>0.508495</td>\n",
       "      <td>0.516205</td>\n",
       "      <td>0.550025</td>\n",
       "      <td>0.575886</td>\n",
       "      <td>0.507974</td>\n",
       "      <td>0.571483</td>\n",
       "      <td>0.513574</td>\n",
       "      <td>0.522663</td>\n",
       "      <td>0.468337</td>\n",
       "    </tr>\n",
       "    <tr>\n",
       "      <th>min</th>\n",
       "      <td>0.000000</td>\n",
       "      <td>0.0</td>\n",
       "      <td>-1.000000</td>\n",
       "      <td>-1.000000</td>\n",
       "      <td>-1.000000</td>\n",
       "      <td>-1.000000</td>\n",
       "      <td>-1.000000</td>\n",
       "      <td>-1.000000</td>\n",
       "      <td>-1.000000</td>\n",
       "      <td>-1.000000</td>\n",
       "      <td>...</td>\n",
       "      <td>-1.000000</td>\n",
       "      <td>-1.000000</td>\n",
       "      <td>-1.000000</td>\n",
       "      <td>-1.000000</td>\n",
       "      <td>-1.000000</td>\n",
       "      <td>-1.000000</td>\n",
       "      <td>-1.000000</td>\n",
       "      <td>-1.000000</td>\n",
       "      <td>-1.000000</td>\n",
       "      <td>-1.000000</td>\n",
       "    </tr>\n",
       "    <tr>\n",
       "      <th>25%</th>\n",
       "      <td>1.000000</td>\n",
       "      <td>0.0</td>\n",
       "      <td>0.472135</td>\n",
       "      <td>-0.064735</td>\n",
       "      <td>0.412660</td>\n",
       "      <td>-0.024795</td>\n",
       "      <td>0.211310</td>\n",
       "      <td>-0.054840</td>\n",
       "      <td>0.087110</td>\n",
       "      <td>-0.048075</td>\n",
       "      <td>...</td>\n",
       "      <td>0.000000</td>\n",
       "      <td>-0.332390</td>\n",
       "      <td>0.286435</td>\n",
       "      <td>-0.443165</td>\n",
       "      <td>0.000000</td>\n",
       "      <td>-0.236885</td>\n",
       "      <td>0.000000</td>\n",
       "      <td>-0.242595</td>\n",
       "      <td>0.000000</td>\n",
       "      <td>-0.165350</td>\n",
       "    </tr>\n",
       "    <tr>\n",
       "      <th>50%</th>\n",
       "      <td>1.000000</td>\n",
       "      <td>0.0</td>\n",
       "      <td>0.871110</td>\n",
       "      <td>0.016310</td>\n",
       "      <td>0.809200</td>\n",
       "      <td>0.022800</td>\n",
       "      <td>0.728730</td>\n",
       "      <td>0.014710</td>\n",
       "      <td>0.684210</td>\n",
       "      <td>0.018290</td>\n",
       "      <td>...</td>\n",
       "      <td>0.553890</td>\n",
       "      <td>-0.015050</td>\n",
       "      <td>0.708240</td>\n",
       "      <td>-0.017690</td>\n",
       "      <td>0.496640</td>\n",
       "      <td>0.000000</td>\n",
       "      <td>0.442770</td>\n",
       "      <td>0.000000</td>\n",
       "      <td>0.409560</td>\n",
       "      <td>0.000000</td>\n",
       "    </tr>\n",
       "    <tr>\n",
       "      <th>75%</th>\n",
       "      <td>1.000000</td>\n",
       "      <td>0.0</td>\n",
       "      <td>1.000000</td>\n",
       "      <td>0.194185</td>\n",
       "      <td>1.000000</td>\n",
       "      <td>0.334655</td>\n",
       "      <td>0.969240</td>\n",
       "      <td>0.445675</td>\n",
       "      <td>0.953240</td>\n",
       "      <td>0.534195</td>\n",
       "      <td>...</td>\n",
       "      <td>0.905240</td>\n",
       "      <td>0.156765</td>\n",
       "      <td>0.999945</td>\n",
       "      <td>0.153535</td>\n",
       "      <td>0.883465</td>\n",
       "      <td>0.154075</td>\n",
       "      <td>0.857620</td>\n",
       "      <td>0.200120</td>\n",
       "      <td>0.813765</td>\n",
       "      <td>0.171660</td>\n",
       "    </tr>\n",
       "    <tr>\n",
       "      <th>max</th>\n",
       "      <td>1.000000</td>\n",
       "      <td>0.0</td>\n",
       "      <td>1.000000</td>\n",
       "      <td>1.000000</td>\n",
       "      <td>1.000000</td>\n",
       "      <td>1.000000</td>\n",
       "      <td>1.000000</td>\n",
       "      <td>1.000000</td>\n",
       "      <td>1.000000</td>\n",
       "      <td>1.000000</td>\n",
       "      <td>...</td>\n",
       "      <td>1.000000</td>\n",
       "      <td>1.000000</td>\n",
       "      <td>1.000000</td>\n",
       "      <td>1.000000</td>\n",
       "      <td>1.000000</td>\n",
       "      <td>1.000000</td>\n",
       "      <td>1.000000</td>\n",
       "      <td>1.000000</td>\n",
       "      <td>1.000000</td>\n",
       "      <td>1.000000</td>\n",
       "    </tr>\n",
       "  </tbody>\n",
       "</table>\n",
       "<p>8 rows × 34 columns</p>\n",
       "</div>"
      ],
      "text/plain": [
       "              a01    a02         a03         a04         a05         a06  \\\n",
       "count  351.000000  351.0  351.000000  351.000000  351.000000  351.000000   \n",
       "mean     0.891738    0.0    0.641342    0.044372    0.601068    0.115889   \n",
       "std      0.311155    0.0    0.497708    0.441435    0.519862    0.460810   \n",
       "min      0.000000    0.0   -1.000000   -1.000000   -1.000000   -1.000000   \n",
       "25%      1.000000    0.0    0.472135   -0.064735    0.412660   -0.024795   \n",
       "50%      1.000000    0.0    0.871110    0.016310    0.809200    0.022800   \n",
       "75%      1.000000    0.0    1.000000    0.194185    1.000000    0.334655   \n",
       "max      1.000000    0.0    1.000000    1.000000    1.000000    1.000000   \n",
       "\n",
       "              a07         a08         a09         a10  ...         a25  \\\n",
       "count  351.000000  351.000000  351.000000  351.000000  ...  351.000000   \n",
       "mean     0.550095    0.119360    0.511848    0.181345  ...    0.396135   \n",
       "std      0.492654    0.520750    0.507066    0.483851  ...    0.578451   \n",
       "min     -1.000000   -1.000000   -1.000000   -1.000000  ...   -1.000000   \n",
       "25%      0.211310   -0.054840    0.087110   -0.048075  ...    0.000000   \n",
       "50%      0.728730    0.014710    0.684210    0.018290  ...    0.553890   \n",
       "75%      0.969240    0.445675    0.953240    0.534195  ...    0.905240   \n",
       "max      1.000000    1.000000    1.000000    1.000000  ...    1.000000   \n",
       "\n",
       "              a26         a27         a28         a29         a30         a31  \\\n",
       "count  351.000000  351.000000  351.000000  351.000000  351.000000  351.000000   \n",
       "mean    -0.071187    0.541641   -0.069538    0.378445   -0.027907    0.352514   \n",
       "std      0.508495    0.516205    0.550025    0.575886    0.507974    0.571483   \n",
       "min     -1.000000   -1.000000   -1.000000   -1.000000   -1.000000   -1.000000   \n",
       "25%     -0.332390    0.286435   -0.443165    0.000000   -0.236885    0.000000   \n",
       "50%     -0.015050    0.708240   -0.017690    0.496640    0.000000    0.442770   \n",
       "75%      0.156765    0.999945    0.153535    0.883465    0.154075    0.857620   \n",
       "max      1.000000    1.000000    1.000000    1.000000    1.000000    1.000000   \n",
       "\n",
       "              a32         a33         a34  \n",
       "count  351.000000  351.000000  351.000000  \n",
       "mean    -0.003794    0.349364    0.014480  \n",
       "std      0.513574    0.522663    0.468337  \n",
       "min     -1.000000   -1.000000   -1.000000  \n",
       "25%     -0.242595    0.000000   -0.165350  \n",
       "50%      0.000000    0.409560    0.000000  \n",
       "75%      0.200120    0.813765    0.171660  \n",
       "max      1.000000    1.000000    1.000000  \n",
       "\n",
       "[8 rows x 34 columns]"
      ]
     },
     "execution_count": 3,
     "metadata": {},
     "output_type": "execute_result"
    }
   ],
   "source": [
    "df = pd.read_csv('ionosphere_ds.csv')\n",
    "#στατιστικά των 34 ποσοτικών μεταβλητων-στηλών\n",
    "df.describe()"
   ]
  },
  {
   "cell_type": "code",
   "execution_count": 4,
   "metadata": {},
   "outputs": [
    {
     "data": {
      "text/html": [
       "<div>\n",
       "<style scoped>\n",
       "    .dataframe tbody tr th:only-of-type {\n",
       "        vertical-align: middle;\n",
       "    }\n",
       "\n",
       "    .dataframe tbody tr th {\n",
       "        vertical-align: top;\n",
       "    }\n",
       "\n",
       "    .dataframe thead th {\n",
       "        text-align: right;\n",
       "    }\n",
       "</style>\n",
       "<table border=\"1\" class=\"dataframe\">\n",
       "  <thead>\n",
       "    <tr style=\"text-align: right;\">\n",
       "      <th></th>\n",
       "      <th>0</th>\n",
       "      <th>1</th>\n",
       "      <th>2</th>\n",
       "      <th>3</th>\n",
       "      <th>4</th>\n",
       "      <th>5</th>\n",
       "      <th>6</th>\n",
       "      <th>7</th>\n",
       "      <th>8</th>\n",
       "      <th>9</th>\n",
       "      <th>...</th>\n",
       "      <th>341</th>\n",
       "      <th>342</th>\n",
       "      <th>343</th>\n",
       "      <th>344</th>\n",
       "      <th>345</th>\n",
       "      <th>346</th>\n",
       "      <th>347</th>\n",
       "      <th>348</th>\n",
       "      <th>349</th>\n",
       "      <th>350</th>\n",
       "    </tr>\n",
       "  </thead>\n",
       "  <tbody>\n",
       "    <tr>\n",
       "      <th>label</th>\n",
       "      <td>g</td>\n",
       "      <td>b</td>\n",
       "      <td>g</td>\n",
       "      <td>b</td>\n",
       "      <td>g</td>\n",
       "      <td>b</td>\n",
       "      <td>g</td>\n",
       "      <td>b</td>\n",
       "      <td>g</td>\n",
       "      <td>b</td>\n",
       "      <td>...</td>\n",
       "      <td>g</td>\n",
       "      <td>g</td>\n",
       "      <td>g</td>\n",
       "      <td>g</td>\n",
       "      <td>g</td>\n",
       "      <td>g</td>\n",
       "      <td>g</td>\n",
       "      <td>g</td>\n",
       "      <td>g</td>\n",
       "      <td>g</td>\n",
       "    </tr>\n",
       "  </tbody>\n",
       "</table>\n",
       "<p>1 rows × 351 columns</p>\n",
       "</div>"
      ],
      "text/plain": [
       "      0   1   2   3   4   5   6   7   8   9    ... 341 342 343 344 345 346  \\\n",
       "label   g   b   g   b   g   b   g   b   g   b  ...   g   g   g   g   g   g   \n",
       "\n",
       "      347 348 349 350  \n",
       "label   g   g   g   g  \n",
       "\n",
       "[1 rows x 351 columns]"
      ]
     },
     "execution_count": 4,
     "metadata": {},
     "output_type": "execute_result"
    }
   ],
   "source": [
    "#και η 35η στήλη της κατηγοριοποίησης\n",
    "pd.DataFrame(df.loc[:,'label']).transpose()"
   ]
  },
  {
   "cell_type": "markdown",
   "metadata": {},
   "source": [
    "### Περιττά Δεδομένα & ΝAs\n",
    "\n",
    "Μελετώντας την παραπάνω στατιστική περίληψη των μεταβλητών, παρατηρούμε ότι η **δεύτερη στήλη** (όνομα μεταβλητης: `a02`) του dataframe (και μοναχά αυτή) έχει **μηδενική διακύμανση**, άρα είναι **αδιάφορη στήλη** και μπορούμε να την αφαιρέσουμε από το dataframe, στο πλαίσιο της μελέτης μας:"
   ]
  },
  {
   "cell_type": "code",
   "execution_count": 5,
   "metadata": {},
   "outputs": [],
   "source": [
    "df.drop(columns = ['a02'], inplace = True)"
   ]
  },
  {
   "cell_type": "markdown",
   "metadata": {},
   "source": [
    "Επιπλέον, επιβεβαιώνουμε την πληροφορία από το description του dataset, ότι **δεν περιέχει missing values** (NAs):"
   ]
  },
  {
   "cell_type": "code",
   "execution_count": 125,
   "metadata": {},
   "outputs": [
    {
     "data": {
      "text/plain": [
       "False"
      ]
     },
     "execution_count": 125,
     "metadata": {},
     "output_type": "execute_result"
    }
   ],
   "source": [
    "df.isna().any().any()"
   ]
  },
  {
   "cell_type": "markdown",
   "metadata": {},
   "source": [
    "### Κωδικοποίηση των labels\n",
    "\n",
    "To PyTorch, δέχεται ως είσοδο -στις loss functions- ακέραιους αριθμούς, ως δείκτες για την κατηγοριά (class) στην οποία ανήκει το κάθε στιγμιότυπο.\n",
    "Συνεπώς, θα χρειαστεί να αλλάξουμε το format των τιμών στη στήλη label του dataframe, από \"g\" (goob signal) ή \"b\" (bad signal) σε 1 και 0, αντίστοιχα.\n",
    "Επίσης, μετατρέπουμε τις παρατηρήσεις των μη διατάξιμων μεταβλητων - εδώ η λογική μεταβλητή στη στήλη `a01`- σε πραγματικούς αριθμούς.\n",
    "\n",
    "Στην έξοδο του επόμενου κελιού, βλέπουμε τη μετασχηματισμένη στήλη των labels:"
   ]
  },
  {
   "cell_type": "code",
   "execution_count": 13,
   "metadata": {},
   "outputs": [
    {
     "data": {
      "text/html": [
       "<div>\n",
       "<style scoped>\n",
       "    .dataframe tbody tr th:only-of-type {\n",
       "        vertical-align: middle;\n",
       "    }\n",
       "\n",
       "    .dataframe tbody tr th {\n",
       "        vertical-align: top;\n",
       "    }\n",
       "\n",
       "    .dataframe thead th {\n",
       "        text-align: right;\n",
       "    }\n",
       "</style>\n",
       "<table border=\"1\" class=\"dataframe\">\n",
       "  <thead>\n",
       "    <tr style=\"text-align: right;\">\n",
       "      <th></th>\n",
       "      <th>0</th>\n",
       "      <th>1</th>\n",
       "      <th>2</th>\n",
       "      <th>3</th>\n",
       "      <th>4</th>\n",
       "      <th>5</th>\n",
       "      <th>6</th>\n",
       "      <th>7</th>\n",
       "      <th>8</th>\n",
       "      <th>9</th>\n",
       "      <th>...</th>\n",
       "      <th>341</th>\n",
       "      <th>342</th>\n",
       "      <th>343</th>\n",
       "      <th>344</th>\n",
       "      <th>345</th>\n",
       "      <th>346</th>\n",
       "      <th>347</th>\n",
       "      <th>348</th>\n",
       "      <th>349</th>\n",
       "      <th>350</th>\n",
       "    </tr>\n",
       "  </thead>\n",
       "  <tbody>\n",
       "    <tr>\n",
       "      <th>label</th>\n",
       "      <td>1</td>\n",
       "      <td>0</td>\n",
       "      <td>1</td>\n",
       "      <td>0</td>\n",
       "      <td>1</td>\n",
       "      <td>0</td>\n",
       "      <td>1</td>\n",
       "      <td>0</td>\n",
       "      <td>1</td>\n",
       "      <td>0</td>\n",
       "      <td>...</td>\n",
       "      <td>1</td>\n",
       "      <td>1</td>\n",
       "      <td>1</td>\n",
       "      <td>1</td>\n",
       "      <td>1</td>\n",
       "      <td>1</td>\n",
       "      <td>1</td>\n",
       "      <td>1</td>\n",
       "      <td>1</td>\n",
       "      <td>1</td>\n",
       "    </tr>\n",
       "  </tbody>\n",
       "</table>\n",
       "<p>1 rows × 351 columns</p>\n",
       "</div>"
      ],
      "text/plain": [
       "       0    1    2    3    4    5    6    7    8    9    ...  341  342  343  \\\n",
       "label    1    0    1    0    1    0    1    0    1    0  ...    1    1    1   \n",
       "\n",
       "       344  345  346  347  348  349  350  \n",
       "label    1    1    1    1    1    1    1  \n",
       "\n",
       "[1 rows x 351 columns]"
      ]
     },
     "execution_count": 13,
     "metadata": {},
     "output_type": "execute_result"
    }
   ],
   "source": [
    "df['label'] = df.label.astype('category')\n",
    "encoding = {'g': 1, 'b': 0}\n",
    "df.label.replace(encoding, inplace = True)\n",
    "df['a01'] = df.a01.astype('float64')\n",
    "\n",
    "pd.DataFrame(df.loc[:,'label']).transpose()"
   ]
  },
  {
   "cell_type": "markdown",
   "metadata": {},
   "source": [
    "### Κατανομή των labels\n",
    "\n",
    "Όπως βλέπουμε, το dataset παρουσιάζει **ανισορροπία** μεταξύ των στιγμιοτύπων-σημάτων που έχουν χαρακτηριστεί ως g ή b (good ή bad)"
   ]
  },
  {
   "cell_type": "code",
   "execution_count": 21,
   "metadata": {},
   "outputs": [
    {
     "data": {
      "text/plain": [
       "<matplotlib.axes._subplots.AxesSubplot at 0x7f8d4cd358d0>"
      ]
     },
     "execution_count": 21,
     "metadata": {},
     "output_type": "execute_result"
    },
    {
     "data": {
      "image/png": "[encoded data removed]",
      "text/plain": [
       "<Figure size 432x288 with 1 Axes>"
      ]
     },
     "metadata": {},
     "output_type": "display_data"
    }
   ],
   "source": [
    "sns.countplot(x = 'label', data = df, palette = \"Accent\")"
   ]
  },
  {
   "cell_type": "code",
   "execution_count": 22,
   "metadata": {},
   "outputs": [
    {
     "data": {
      "text/plain": [
       "1    225\n",
       "0    126\n",
       "Name: label, dtype: int64"
      ]
     },
     "execution_count": 22,
     "metadata": {},
     "output_type": "execute_result"
    }
   ],
   "source": [
    "df['label'].value_counts() #εμφανίσεις 0 και 1 στη στήλη label"
   ]
  },
  {
   "cell_type": "markdown",
   "metadata": {},
   "source": [
    "Οι συχνότητες εμφάνισης των 2 κλάσεων είναι $\\approx.64$ και $\\approx.36$.\n",
    "\n",
    "Η κλάση \"`good signal`\" είναι $\\frac{225}{116}\\approx1.94$ φορές συχνότερη από την κλάση \"`bad signal`\".\n",
    "\n",
    "Συνεπώς, το dataset κρίνεται ως **μη ισορροπημένο**."
   ]
  },
  {
   "cell_type": "markdown",
   "metadata": {},
   "source": [
    "### Seperation, Split & Scale\n",
    "\n",
    "Χωρίζουμε τις ανεξάρτητες από τις εξαρτημένες μεταβλητές (seperation). Η είσοδος Χ θα έχει **33 μεταβλητές** (34 - σταθερή μεταβλητή `a02`) και **351 παρατηρήσεις** και η έξοδος y θα είναι ένα διάνυσμα με τον ίδιο αριθμό παρατηρήσεων:"
   ]
  },
  {
   "cell_type": "code",
   "execution_count": 108,
   "metadata": {},
   "outputs": [
    {
     "data": {
      "text/plain": [
       "(351, 33)"
      ]
     },
     "execution_count": 108,
     "metadata": {},
     "output_type": "execute_result"
    }
   ],
   "source": [
    "X = df.values[:, :-1]\n",
    "X.shape"
   ]
  },
  {
   "cell_type": "code",
   "execution_count": 109,
   "metadata": {},
   "outputs": [
    {
     "data": {
      "text/plain": [
       "(351,)"
      ]
     },
     "execution_count": 109,
     "metadata": {},
     "output_type": "execute_result"
    }
   ],
   "source": [
    "y = df.values[:, -1]\n",
    "y.shape"
   ]
  },
  {
   "cell_type": "markdown",
   "metadata": {},
   "source": [
    "Υλοποιούμε το **διαχωρισμό** του dataset, σε **train** και **test** set (split), και κανονικοποιούμε τις παρατηρήσεις (scale), με τη βοήθεια των `train_test_split` και `StandardScaler` αντίστοιχα, από τη βιβλιοθήκη `sklearn`:"
   ]
  },
  {
   "cell_type": "code",
   "execution_count": 133,
   "metadata": {},
   "outputs": [],
   "source": [
    "from sklearn.model_selection import train_test_split\n",
    "\n",
    "# η παράμετρος random_state είναι ο seed για το shuffling.\n",
    "# κάνει την έξοδο του αλγορίθμου αναπαράξιμη (reproducible output)\n",
    "x_train, x_test, y_train, y_test = train_test_split(X, y, test_size = 0.2, random_state = 7)"
   ]
  },
  {
   "cell_type": "code",
   "execution_count": 212,
   "metadata": {},
   "outputs": [],
   "source": [
    "from sklearn.preprocessing import StandardScaler\n",
    "\n",
    "scaler = StandardScaler()\n",
    "\n",
    "#Δεν κανονικοποιούμε τη λογική μεταβλητή.\n",
    "x_train[:, 1:] = scaler.fit_transform(x_train[:, 1:])\n",
    "x_test[:, 1:] = scaler.transform(x_test[:, 1:])"
   ]
  },
  {
   "cell_type": "markdown",
   "metadata": {},
   "source": [
    "## Εποπτεία Διαχωρισμών"
   ]
  },
  {
   "cell_type": "markdown",
   "metadata": {},
   "source": [
    "Η οπτικοποίηση των δεδομένων του trainset (`x_train`) θα μας δώσει μια ιδέα για το πόσο σύνθετο θα είναι το πρόβλημα της ταξινόμησής τους.\n",
    "\n",
    "Θα κάνουμε χρήση 2 αλγορίθμων απεικόνισης, οι οποίοι περιέχονται στη βιβλιοθήκη sklearn:"
   ]
  },
  {
   "cell_type": "code",
   "execution_count": null,
   "metadata": {},
   "outputs": [],
   "source": []
  },
  {
   "cell_type": "code",
   "execution_count": null,
   "metadata": {},
   "outputs": [],
   "source": []
  },
  {
   "cell_type": "code",
   "execution_count": null,
   "metadata": {},
   "outputs": [],
   "source": []
  },
  {
   "cell_type": "markdown",
   "metadata": {},
   "source": [
    "# from sklearn.manifold import TSNE"
   ]
  },
  {
   "cell_type": "code",
   "execution_count": 213,
   "metadata": {},
   "outputs": [
    {
     "data": {
      "image/png": "[encoded data removed]",
      "text/plain": [
       "<Figure size 432x288 with 1 Axes>"
      ]
     },
     "metadata": {},
     "output_type": "display_data"
    }
   ],
   "source": [
    "# πρώτο τρέξιμο t-SNE\n",
    "x_embedded = TSNE(n_components = 2).fit_transform(x_train)\n",
    "\n",
    "plt.scatter(x_embedded[:, 0], \n",
    "            x_embedded[:, 1], \n",
    "            color=['yellow' if label else 'purple' for label in y_train])\n",
    "plt.show()"
   ]
  },
  {
   "cell_type": "code",
   "execution_count": 214,
   "metadata": {},
   "outputs": [
    {
     "data": {
      "image/png": "[encoded data removed]",
      "text/plain": [
       "<Figure size 432x288 with 1 Axes>"
      ]
     },
     "metadata": {},
     "output_type": "display_data"
    }
   ],
   "source": [
    "# δεύτερο τρέξιμο t-SNE\n",
    "x_embedded = TSNE(n_components = 2).fit_transform(x_train)\n",
    "\n",
    "plt.scatter(x_embedded[:, 0], \n",
    "            x_embedded[:, 1], \n",
    "            color=['yellow' if label else 'purple' for label in y_train])\n",
    "plt.show()"
   ]
  },
  {
   "cell_type": "markdown",
   "metadata": {},
   "source": [
    ">### PCA `(Principal Component Analysis)`\n",
    "\n",
    "1. Επαναπροσδιορισμός συστήματος συντεταγμένων.\n",
    "2. Aποτέλεσμα ενός γραμμικού συνδυασμού προερχόμενου από τις αρχικές μεταβλητές.\n",
    "3. Eκπροσωπούνται σε ορθογώνιο άξονα.\n",
    "4. Tα επικείμενα σημεία διατηρούν μια φθίνουσα σειρά στην τιμή της διακύμανσής τους."
   ]
  },
  {
   "cell_type": "code",
   "execution_count": 38,
   "metadata": {},
   "outputs": [],
   "source": [
    "from sklearn.decomposition import PCA"
   ]
  },
  {
   "cell_type": "code",
   "execution_count": 215,
   "metadata": {},
   "outputs": [
    {
     "data": {
      "image/png": "[encoded data removed]",
      "text/plain": [
       "<Figure size 432x288 with 1 Axes>"
      ]
     },
     "metadata": {},
     "output_type": "display_data"
    }
   ],
   "source": [
    "x_embedded = PCA(n_components = 2).fit_transform(x_train)\n",
    "\n",
    "plt.scatter(x_embedded[:, 0], \n",
    "            x_embedded[:, 1], \n",
    "            color = ['red' if label else 'blue' for label in y_train])\n",
    "\n",
    "plt.show()"
   ]
  },
  {
   "cell_type": "markdown",
   "metadata": {},
   "source": [
    "Από τις παραπάνω απεικονίσεις, προκύπτει ότι μελετάμε ένα σχετικά **απλό σύνολο**. Δοκιμάζοντας t-SNE απεικονίσεις, μπορούμε να πετύχουμε σχεδόν / ακόμη και γραμμικό διαχωρισμό.\n",
    "\n",
    "Περιμένουμε υψηλή ακρίβεια από το μοντέλο μας. "
   ]
  },
  {
   "cell_type": "markdown",
   "metadata": {},
   "source": [
    "## Μοντελοποίηση"
   ]
  },
  {
   "cell_type": "markdown",
   "metadata": {},
   "source": [
    "### Baseline Classification\n",
    "\n",
    "Θα ξεκινήσουμε τη μοντελοποίηση, εκτελώντας ορισμένες dummy στρατηγικές ταξινόμησης του dataset μας. Οι dummy classifiers ταξινομούν με κάποιους απλούς κανόνες-στρατηγικές τα δεδομένα. Χρησιμοποιούνται ως benchmarks για το scaling και ranking άλλων μοντέλων.\n",
    "\n",
    "\n",
    "Θα χρησιμοποιήσουμε τον `DummyClassifier`της sklearn για να εξετάσουμε την ακρίβεια όλων των διαθέσιμων στρατηγικών:"
   ]
  },
  {
   "cell_type": "code",
   "execution_count": 115,
   "metadata": {},
   "outputs": [],
   "source": [
    "from sklearn.dummy import DummyClassifier"
   ]
  },
  {
   "cell_type": "code",
   "execution_count": 112,
   "metadata": {},
   "outputs": [
    {
     "data": {
      "text/plain": [
       "0.6410256410256411"
      ]
     },
     "execution_count": 112,
     "metadata": {},
     "output_type": "execute_result"
    }
   ],
   "source": [
    "#dclf = DummyClassifier(strategy=\"most_frequent\")\n",
    "#dclf.fit(X, y)\n",
    "#DummyClassifier(strategy='most_frequent')\n",
    "#dclf.predict(X)\n",
    "#dclf.score(X, y)"
   ]
  },
  {
   "cell_type": "code",
   "execution_count": 210,
   "metadata": {},
   "outputs": [],
   "source": [
    "strategies = ['most_frequent', 'stratified', 'uniform', 'constant'] \n",
    "  \n",
    "dummy_scores = [] \n",
    "for s in strategies: \n",
    "    if s =='constant': \n",
    "        dclf = DummyClassifier(strategy = s, random_state = 0, constant = 1) \n",
    "    else: \n",
    "        dclf = DummyClassifier(strategy = s, random_state = 0) \n",
    "    dclf.fit(x_train, y_train)\n",
    "    #dclf.predict(x_train)\n",
    "    score = dclf.score(x_test, y_test) \n",
    "    dummy_scores.append(score) "
   ]
  },
  {
   "cell_type": "code",
   "execution_count": 211,
   "metadata": {},
   "outputs": [
    {
     "data": {
      "image/png": "[encoded data removed]",
      "text/plain": [
       "<Figure size 432x288 with 1 Axes>"
      ]
     },
     "metadata": {},
     "output_type": "display_data"
    }
   ],
   "source": [
    "sns.set_theme(style = \"whitegrid\")\n",
    "ax = sns.stripplot(x = strategies, y = dummy_scores); \n",
    "ax.set(xlabel = 'Strategy', ylabel = 'Dummy Score') \n",
    "plt.show() "
   ]
  },
  {
   "cell_type": "markdown",
   "metadata": {},
   "source": [
    "### Bernoulli Naive Bayes\n",
    "\n",
    "Ας δούμε πως ταξινομεί τα δεδομένα μας ο "
   ]
  },
  {
   "cell_type": "code",
   "execution_count": null,
   "metadata": {},
   "outputs": [],
   "source": [
    "from sklearn.naive_bayes import BernoulliNB"
   ]
  },
  {
   "cell_type": "code",
   "execution_count": null,
   "metadata": {},
   "outputs": [],
   "source": [
    "nbclf = BernoulliNB()\n",
    "nbclf.fit(x_train, y_train)\n",
    "BernoulliNB()\n",
    ">>> print(clf.predict(X[2:3]))"
   ]
  },
  {
   "cell_type": "markdown",
   "metadata": {},
   "source": [
    "### K Nearest Neighbors\n",
    "\n",
    "Τώρα θα δούμε πως ταξινομούν οι Κ Nearest Neighbors ταξινομητές.\n",
    "\n",
    "Επιλέγουμε το σύνολο `neighbor_n` με τα προς εξέταση πλήθη γειτόνων και χρησιμοποιούμε τη συνάρτηση KNeighborsClassifier από την sklearn, για να εξάγουμε την ακρίβεια των kNN ταξινομητών, για k $\\in$`neighbor_n`:"
   ]
  },
  {
   "cell_type": "code",
   "execution_count": 152,
   "metadata": {},
   "outputs": [],
   "source": [
    "from sklearn.neighbors import KNeighborsClassifier "
   ]
  },
  {
   "cell_type": "code",
   "execution_count": 206,
   "metadata": {},
   "outputs": [],
   "source": [
    "neighbor_n = list(range(1,15))\n",
    "  \n",
    "knn_scores = [] \n",
    "\n",
    "for k in neighbor_n: \n",
    "    knclf = KNeighborsClassifier(n_neighbors = k)\n",
    "    knclf.fit(x_train, y_train) \n",
    "    #dclf.predict(X)\n",
    "    score = knclf.score(x_test, y_test) \n",
    "    knn_scores.append(score) "
   ]
  },
  {
   "cell_type": "code",
   "execution_count": null,
   "metadata": {},
   "outputs": [],
   "source": [
    "knn = GridSearchCV(\n",
    "    KNeighborsClassifier(),\n",
    "    scoring='roc_auc',\n",
    "    param_grid={'n_neighbors': [3*(x+1) for x in range(25)]},\n",
    "    cv=2,\n",
    "    n_jobs=-1\n",
    ")\n",
    "knn.fit(x_train, y_train)\n",
    "\n",
    "print(knn.best_score_)\n",
    "print(knn.best_params_)"
   ]
  },
  {
   "cell_type": "code",
   "execution_count": 207,
   "metadata": {},
   "outputs": [
    {
     "data": {
      "image/png": "[encoded data removed]",
      "text/plain": [
       "<Figure size 432x288 with 1 Axes>"
      ]
     },
     "metadata": {},
     "output_type": "display_data"
    }
   ],
   "source": [
    "sns.set_theme(style = \"whitegrid\")\n",
    "ax = sns.scatterplot(x = neighbor_n, y = knn_scores); \n",
    "ax.set(xlabel = 'neighbors', ylabel = 'kNN Score') \n",
    "plt.show() "
   ]
  },
  {
   "cell_type": "markdown",
   "metadata": {},
   "source": [
    "Παρατηρούμε ότι ο kNN classifier ταξινομεί αποδοτικότερα στους 4 κοντινότερους γείτονες."
   ]
  },
  {
   "cell_type": "markdown",
   "metadata": {},
   "source": [
    "### Παράμετροι"
   ]
  },
  {
   "cell_type": "markdown",
   "metadata": {},
   "source": [
    "Καθορίζουμε βασικές παραμέτρους και το data pipeline και επιλέγουμε το μοντέλο μας."
   ]
  },
  {
   "cell_type": "code",
   "execution_count": null,
   "metadata": {},
   "outputs": [],
   "source": [
    "import torch\n",
    "import torch.nn as nn\n",
    "import torch.nn.functional as F\n",
    "import torch.optim as optim"
   ]
  },
  {
   "cell_type": "code",
   "execution_count": 45,
   "metadata": {},
   "outputs": [],
   "source": [
    "iterations = 100\n",
    "batch_size = 32"
   ]
  },
  {
   "cell_type": "markdown",
   "metadata": {},
   "source": [
    "### Data Pipeline"
   ]
  },
  {
   "cell_type": "code",
   "execution_count": null,
   "metadata": {},
   "outputs": [],
   "source": [
    "from torch.utils.data import Dataset"
   ]
  },
  {
   "cell_type": "code",
   "execution_count": 46,
   "metadata": {},
   "outputs": [],
   "source": [
    "class TrainData(Dataset):\n",
    "    \n",
    "    def __init__(self, x_train, y_train):\n",
    "        self.x_train = x_train\n",
    "        self.y_train = y_train\n",
    "    \n",
    "    def __getitem__(self, index):\n",
    "        return self.x_train[index], self.y_train[index]\n",
    "    \n",
    "    def __len__ (self):\n",
    "        return len(self.x_train)"
   ]
  },
  {
   "cell_type": "code",
   "execution_count": null,
   "metadata": {},
   "outputs": [],
   "source": [
    "class TestData(Dataset):\n",
    "    \n",
    "    def __init__(self, x_test):\n",
    "        self.x_test = x_test\n",
    "        \n",
    "    def __getitem__(self, index):\n",
    "        return self.x_test[index]\n",
    "        \n",
    "    def __len__ (self):\n",
    "        return len(self.x_test)"
   ]
  },
  {
   "cell_type": "code",
   "execution_count": 47,
   "metadata": {},
   "outputs": [],
   "source": [
    "train_data = TrainData(torch.from_numpy(x_train).to(torch.float32), \n",
    "                       torch.from_numpy(y_train).to(torch.float32))\n",
    "\n",
    "test_data  = TestData(torch.from_numpy(x_test).to(torch.float32))"
   ]
  },
  {
   "cell_type": "code",
   "execution_count": 48,
   "metadata": {},
   "outputs": [],
   "source": [
    "from torch.utils.data import DataLoader\n",
    "\n",
    "train_loader = DataLoader(dataset = train_data,\n",
    "                          batch_size = batch_size,\n",
    "                          shuffle = True)\n",
    "\n",
    "test_loader = DataLoader(dataset = test_data,\n",
    "                         batch_size = 1)"
   ]
  },
  {
   "cell_type": "markdown",
   "metadata": {},
   "source": [
    "### Ορισμός Μοντέλου\n",
    "\n",
    "We'll be using a **DropOut** layer in the model to ensure that the network does not overfit on the training set."
   ]
  },
  {
   "cell_type": "code",
   "execution_count": 49,
   "metadata": {},
   "outputs": [],
   "source": [
    "class Network(nn.Module):\n",
    "    \n",
    "    def __init__(self):\n",
    "        super().__init__()\n",
    "        # Number of input features is 33.\n",
    "        self.linear_1 = nn.Linear(33, 64)\n",
    "        self.linear_2 = nn.Linear(64, 64)\n",
    "        self.linear_3 = nn.Linear(64, 1)\n",
    "        self.dropout = nn.Dropout(p=0.1)\n",
    "    \n",
    "    def forward(self, inputs):\n",
    "        out = self.linear_1(inputs)\n",
    "        out = F.relu(out)\n",
    "        out = self.linear_2(out)\n",
    "        out = F.relu(out)\n",
    "        out = self.dropout(out)\n",
    "        out = self.linear_3(out)\n",
    "        # Sigmoid activation is later applied by the loss function for numerical stability.\n",
    "        return out"
   ]
  },
  {
   "cell_type": "markdown",
   "metadata": {},
   "source": [
    "## Training\n",
    "\n",
    "We'll use the **Area Under Curve** metric for evaluating the model during the training. Using the Accuracy metric is not a good idea, considering the label imbalance present in the dataset."
   ]
  },
  {
   "cell_type": "code",
   "execution_count": 91,
   "metadata": {},
   "outputs": [],
   "source": [
    "network = Network()\n",
    "criterion = nn.BCEWithLogitsLoss()\n",
    "optimizer = optim.Adam(network.parameters(), lr=1e-4)"
   ]
  },
  {
   "cell_type": "code",
   "execution_count": 92,
   "metadata": {},
   "outputs": [
    {
     "name": "stderr",
     "output_type": "stream",
     "text": [
      "/home/tzanakakis/.local/lib/python3.6/site-packages/torch/autograd/__init__.py:132: UserWarning: CUDA initialization: Found no NVIDIA driver on your system. Please check that you have an NVIDIA GPU and installed a driver from http://www.nvidia.com/Download/index.aspx (Triggered internally at  /pytorch/c10/cuda/CUDAFunctions.cpp:100.)\n",
      "  allow_unreachable=True)  # allow_unreachable flag\n"
     ]
    },
    {
     "name": "stdout",
     "output_type": "stream",
     "text": [
      "[Iteration 0] Loss: 0.6912, Area-Under-Curve: 0.3972\n",
      "[Iteration 1] Loss: 0.6848, Area-Under-Curve: 0.5330\n",
      "[Iteration 2] Loss: 0.6832, Area-Under-Curve: 0.5227\n",
      "[Iteration 3] Loss: 0.6753, Area-Under-Curve: 0.5965\n",
      "[Iteration 4] Loss: 0.6696, Area-Under-Curve: 0.6649\n",
      "[Iteration 5] Loss: 0.6673, Area-Under-Curve: 0.6858\n",
      "[Iteration 6] Loss: 0.6584, Area-Under-Curve: 0.7352\n",
      "[Iteration 7] Loss: 0.6544, Area-Under-Curve: 0.7678\n",
      "[Iteration 8] Loss: 0.6472, Area-Under-Curve: 0.8054\n",
      "[Iteration 9] Loss: 0.6410, Area-Under-Curve: 0.8253\n",
      "[Iteration 10] Loss: 0.6345, Area-Under-Curve: 0.8411\n",
      "[Iteration 11] Loss: 0.6305, Area-Under-Curve: 0.8405\n",
      "[Iteration 12] Loss: 0.6241, Area-Under-Curve: 0.8547\n",
      "[Iteration 13] Loss: 0.6149, Area-Under-Curve: 0.8750\n",
      "[Iteration 14] Loss: 0.6105, Area-Under-Curve: 0.8617\n",
      "[Iteration 15] Loss: 0.6023, Area-Under-Curve: 0.8870\n",
      "[Iteration 16] Loss: 0.5966, Area-Under-Curve: 0.8691\n",
      "[Iteration 17] Loss: 0.5894, Area-Under-Curve: 0.8760\n",
      "[Iteration 18] Loss: 0.5806, Area-Under-Curve: 0.8835\n",
      "[Iteration 19] Loss: 0.5700, Area-Under-Curve: 0.8874\n",
      "[Iteration 20] Loss: 0.5673, Area-Under-Curve: 0.8778\n",
      "[Iteration 21] Loss: 0.5565, Area-Under-Curve: 0.9020\n",
      "[Iteration 22] Loss: 0.5472, Area-Under-Curve: 0.9074\n",
      "[Iteration 23] Loss: 0.5416, Area-Under-Curve: 0.9016\n",
      "[Iteration 24] Loss: 0.5298, Area-Under-Curve: 0.9077\n",
      "[Iteration 25] Loss: 0.5212, Area-Under-Curve: 0.9183\n",
      "[Iteration 26] Loss: 0.5138, Area-Under-Curve: 0.8866\n",
      "[Iteration 27] Loss: 0.4986, Area-Under-Curve: 0.9172\n",
      "[Iteration 28] Loss: 0.4937, Area-Under-Curve: 0.9188\n",
      "[Iteration 29] Loss: 0.4836, Area-Under-Curve: 0.9156\n",
      "[Iteration 30] Loss: 0.4750, Area-Under-Curve: 0.9125\n",
      "[Iteration 31] Loss: 0.4621, Area-Under-Curve: 0.9225\n",
      "[Iteration 32] Loss: 0.4591, Area-Under-Curve: 0.9204\n",
      "[Iteration 33] Loss: 0.4442, Area-Under-Curve: 0.9217\n",
      "[Iteration 34] Loss: 0.4360, Area-Under-Curve: 0.9289\n",
      "[Iteration 35] Loss: 0.4283, Area-Under-Curve: 0.9376\n",
      "[Iteration 36] Loss: 0.4156, Area-Under-Curve: 0.9322\n",
      "[Iteration 37] Loss: 0.4099, Area-Under-Curve: 0.9415\n",
      "[Iteration 38] Loss: 0.4047, Area-Under-Curve: 0.9291\n",
      "[Iteration 39] Loss: 0.3939, Area-Under-Curve: 0.9483\n",
      "[Iteration 40] Loss: 0.3879, Area-Under-Curve: 0.9383\n",
      "[Iteration 41] Loss: 0.3740, Area-Under-Curve: 0.9522\n",
      "[Iteration 42] Loss: 0.3659, Area-Under-Curve: 0.9638\n",
      "[Iteration 43] Loss: 0.3608, Area-Under-Curve: 0.9515\n",
      "[Iteration 44] Loss: 0.3522, Area-Under-Curve: 0.9528\n",
      "[Iteration 45] Loss: 0.3468, Area-Under-Curve: 0.9509\n",
      "[Iteration 46] Loss: 0.3361, Area-Under-Curve: 0.9574\n",
      "[Iteration 47] Loss: 0.3336, Area-Under-Curve: 0.9551\n",
      "[Iteration 48] Loss: 0.3242, Area-Under-Curve: 0.9627\n",
      "[Iteration 49] Loss: 0.3173, Area-Under-Curve: 0.9627\n",
      "[Iteration 50] Loss: 0.3126, Area-Under-Curve: 0.9674\n",
      "[Iteration 51] Loss: 0.3067, Area-Under-Curve: 0.9647\n",
      "[Iteration 52] Loss: 0.2971, Area-Under-Curve: 0.9670\n",
      "[Iteration 53] Loss: 0.2949, Area-Under-Curve: 0.9658\n",
      "[Iteration 54] Loss: 0.2874, Area-Under-Curve: 0.9697\n",
      "[Iteration 55] Loss: 0.2848, Area-Under-Curve: 0.9637\n",
      "[Iteration 56] Loss: 0.2792, Area-Under-Curve: 0.9728\n",
      "[Iteration 57] Loss: 0.2714, Area-Under-Curve: 0.9730\n",
      "[Iteration 58] Loss: 0.2715, Area-Under-Curve: 0.9742\n",
      "[Iteration 59] Loss: 0.2664, Area-Under-Curve: 0.9764\n",
      "[Iteration 60] Loss: 0.2581, Area-Under-Curve: 0.9795\n",
      "[Iteration 61] Loss: 0.2578, Area-Under-Curve: 0.9778\n",
      "[Iteration 62] Loss: 0.2562, Area-Under-Curve: 0.9752\n",
      "[Iteration 63] Loss: 0.2466, Area-Under-Curve: 0.9782\n",
      "[Iteration 64] Loss: 0.2387, Area-Under-Curve: 0.9839\n",
      "[Iteration 65] Loss: 0.2399, Area-Under-Curve: 0.9844\n",
      "[Iteration 66] Loss: 0.2390, Area-Under-Curve: 0.9754\n",
      "[Iteration 67] Loss: 0.2338, Area-Under-Curve: 0.9821\n",
      "[Iteration 68] Loss: 0.2261, Area-Under-Curve: 0.9822\n",
      "[Iteration 69] Loss: 0.2292, Area-Under-Curve: 0.9785\n",
      "[Iteration 70] Loss: 0.2241, Area-Under-Curve: 0.9844\n",
      "[Iteration 71] Loss: 0.2185, Area-Under-Curve: 0.9813\n",
      "[Iteration 72] Loss: 0.2135, Area-Under-Curve: 0.9784\n",
      "[Iteration 73] Loss: 0.2140, Area-Under-Curve: 0.9827\n",
      "[Iteration 74] Loss: 0.2086, Area-Under-Curve: 0.9837\n",
      "[Iteration 75] Loss: 0.2111, Area-Under-Curve: 0.9832\n",
      "[Iteration 76] Loss: 0.2010, Area-Under-Curve: 0.9856\n",
      "[Iteration 77] Loss: 0.2000, Area-Under-Curve: 0.9837\n",
      "[Iteration 78] Loss: 0.1983, Area-Under-Curve: 0.9860\n",
      "[Iteration 79] Loss: 0.1928, Area-Under-Curve: 0.9876\n",
      "[Iteration 80] Loss: 0.1880, Area-Under-Curve: 0.9891\n",
      "[Iteration 81] Loss: 0.1917, Area-Under-Curve: 0.9818\n",
      "[Iteration 82] Loss: 0.1865, Area-Under-Curve: 0.9859\n",
      "[Iteration 83] Loss: 0.1863, Area-Under-Curve: 0.9847\n",
      "[Iteration 84] Loss: 0.1796, Area-Under-Curve: 0.9881\n",
      "[Iteration 85] Loss: 0.1773, Area-Under-Curve: 0.9847\n",
      "[Iteration 86] Loss: 0.1768, Area-Under-Curve: 0.9890\n",
      "[Iteration 87] Loss: 0.1726, Area-Under-Curve: 0.9891\n",
      "[Iteration 88] Loss: 0.1728, Area-Under-Curve: 0.9889\n",
      "[Iteration 89] Loss: 0.1697, Area-Under-Curve: 0.9938\n",
      "[Iteration 90] Loss: 0.1653, Area-Under-Curve: 0.9877\n",
      "[Iteration 91] Loss: 0.1645, Area-Under-Curve: 0.9918\n",
      "[Iteration 92] Loss: 0.1591, Area-Under-Curve: 0.9898\n",
      "[Iteration 93] Loss: 0.1563, Area-Under-Curve: 0.9908\n",
      "[Iteration 94] Loss: 0.1579, Area-Under-Curve: 0.9912\n",
      "[Iteration 95] Loss: 0.1574, Area-Under-Curve: 0.9906\n",
      "[Iteration 96] Loss: 0.1533, Area-Under-Curve: 0.9910\n",
      "[Iteration 97] Loss: 0.1503, Area-Under-Curve: 0.9939\n",
      "[Iteration 98] Loss: 0.1512, Area-Under-Curve: 0.9901\n",
      "[Iteration 99] Loss: 0.1501, Area-Under-Curve: 0.9868\n"
     ]
    }
   ],
   "source": [
    "from sklearn.metrics import roc_auc_score\n",
    "\n",
    "n_batches = len(train_loader)\n",
    "\n",
    "network.train()\n",
    "\n",
    "loss_li = []\n",
    "score_li = []\n",
    "\n",
    "for it in range(iterations):\n",
    "    it_loss = 0\n",
    "    it_score = 0\n",
    "    for x_batch, y_batch in train_loader:\n",
    "        optimizer.zero_grad()\n",
    "        y_real = y_batch.unsqueeze(1)\n",
    "        y_pred = network(x_batch)\n",
    "        loss = criterion(y_pred, y_real)\n",
    "        y_pred = torch.sigmoid(y_pred.detach())\n",
    "        score = roc_auc_score(y_real, y_pred)\n",
    "        loss.backward()\n",
    "        optimizer.step()\n",
    "        it_loss += loss.item()\n",
    "        it_score += score\n",
    "    loss_li.append(it_loss / n_batches)\n",
    "    score_li.append(it_score / n_batches)\n",
    "    print('[Iteration {}] Loss: {:.4f}, Area-Under-Curve: {:.4f}'.format(it, it_loss / n_batches, it_score / n_batches))\n",
    "        "
   ]
  },
  {
   "cell_type": "code",
   "execution_count": 93,
   "metadata": {},
   "outputs": [
    {
     "data": {
      "image/png": "[encoded data removed]",
      "text/plain": [
       "<Figure size 432x288 with 1 Axes>"
      ]
     },
     "metadata": {},
     "output_type": "display_data"
    }
   ],
   "source": [
    "plt.plot(loss_li)\n",
    "plt.xlabel('Iteration')\n",
    "plt.ylabel('Binary Cross-Entropy Loss')\n",
    "plt.show()"
   ]
  },
  {
   "cell_type": "code",
   "execution_count": 94,
   "metadata": {},
   "outputs": [
    {
     "data": {
      "image/png": "[encoded data removed]",
      "text/plain": [
       "<Figure size 432x288 with 1 Axes>"
      ]
     },
     "metadata": {},
     "output_type": "display_data"
    }
   ],
   "source": [
    "plt.plot(score_li)\n",
    "plt.xlabel('Iteration')\n",
    "plt.ylabel('Area Under Curve')\n",
    "plt.show()"
   ]
  },
  {
   "cell_type": "markdown",
   "metadata": {},
   "source": [
    "## Evaluation\n",
    "\n",
    "We'll compute and analyze the **Confusion Matrix** of the model using `test_data`. Then, we'll compute the **Precision**, **Recall**, and **F1 Score** of each class."
   ]
  },
  {
   "cell_type": "code",
   "execution_count": 95,
   "metadata": {},
   "outputs": [],
   "source": [
    "network.eval()\n",
    "\n",
    "predictions = []\n",
    "\n",
    "with torch.no_grad():\n",
    "    for x_batch in test_loader:\n",
    "        y_pred = network(x_batch)\n",
    "        y_pred = torch.sigmoid(y_pred)\n",
    "        predictions.append(y_pred.squeeze().tolist())\n",
    "\n",
    "y_pred = np.round(predictions)"
   ]
  },
  {
   "cell_type": "code",
   "execution_count": 100,
   "metadata": {},
   "outputs": [
    {
     "data": {
      "text/plain": [
       "array([[18,  5],\n",
       "       [ 2, 46]])"
      ]
     },
     "execution_count": 100,
     "metadata": {},
     "output_type": "execute_result"
    }
   ],
   "source": [
    "from sklearn.metrics import confusion_matrix\n",
    "\n",
    "confusion_matrix(y_test, y_pred)"
   ]
  },
  {
   "cell_type": "code",
   "execution_count": 103,
   "metadata": {},
   "outputs": [
    {
     "data": {
      "text/html": [
       "<div>\n",
       "<style scoped>\n",
       "    .dataframe tbody tr th:only-of-type {\n",
       "        vertical-align: middle;\n",
       "    }\n",
       "\n",
       "    .dataframe tbody tr th {\n",
       "        vertical-align: top;\n",
       "    }\n",
       "\n",
       "    .dataframe thead th {\n",
       "        text-align: right;\n",
       "    }\n",
       "</style>\n",
       "<table border=\"1\" class=\"dataframe\">\n",
       "  <thead>\n",
       "    <tr style=\"text-align: right;\">\n",
       "      <th></th>\n",
       "      <th>precision</th>\n",
       "      <th>recall</th>\n",
       "      <th>f1-score</th>\n",
       "      <th>support</th>\n",
       "    </tr>\n",
       "  </thead>\n",
       "  <tbody>\n",
       "    <tr>\n",
       "      <th>0.0</th>\n",
       "      <td>0.900000</td>\n",
       "      <td>0.782609</td>\n",
       "      <td>0.837209</td>\n",
       "      <td>23.000000</td>\n",
       "    </tr>\n",
       "    <tr>\n",
       "      <th>1.0</th>\n",
       "      <td>0.901961</td>\n",
       "      <td>0.958333</td>\n",
       "      <td>0.929293</td>\n",
       "      <td>48.000000</td>\n",
       "    </tr>\n",
       "    <tr>\n",
       "      <th>accuracy</th>\n",
       "      <td>0.901408</td>\n",
       "      <td>0.901408</td>\n",
       "      <td>0.901408</td>\n",
       "      <td>0.901408</td>\n",
       "    </tr>\n",
       "    <tr>\n",
       "      <th>macro avg</th>\n",
       "      <td>0.900980</td>\n",
       "      <td>0.870471</td>\n",
       "      <td>0.883251</td>\n",
       "      <td>71.000000</td>\n",
       "    </tr>\n",
       "    <tr>\n",
       "      <th>weighted avg</th>\n",
       "      <td>0.901326</td>\n",
       "      <td>0.901408</td>\n",
       "      <td>0.899463</td>\n",
       "      <td>71.000000</td>\n",
       "    </tr>\n",
       "  </tbody>\n",
       "</table>\n",
       "</div>"
      ],
      "text/plain": [
       "              precision    recall  f1-score    support\n",
       "0.0            0.900000  0.782609  0.837209  23.000000\n",
       "1.0            0.901961  0.958333  0.929293  48.000000\n",
       "accuracy       0.901408  0.901408  0.901408   0.901408\n",
       "macro avg      0.900980  0.870471  0.883251  71.000000\n",
       "weighted avg   0.901326  0.901408  0.899463  71.000000"
      ]
     },
     "execution_count": 103,
     "metadata": {},
     "output_type": "execute_result"
    }
   ],
   "source": [
    "from sklearn.metrics import classification_report\n",
    "\n",
    "pd.DataFrame(classification_report(y_test, \n",
    "                                   y_pred, \n",
    "                                   output_dict = True)\n",
    "            ).transpose()"
   ]
  },
  {
   "cell_type": "markdown",
   "metadata": {},
   "source": [
    "Πολύ καλό score!"
   ]
  }
 ],
 "metadata": {
  "kernelspec": {
   "display_name": "Python 3",
   "language": "python",
   "name": "python3"
  },
  "language_info": {
   "codemirror_mode": {
    "name": "ipython",
    "version": 3
   },
   "file_extension": ".py",
   "mimetype": "text/x-python",
   "name": "python",
   "nbconvert_exporter": "python",
   "pygments_lexer": "ipython3",
   "version": "3.6.9"
  }
 },
 "nbformat": 4,
 "nbformat_minor": 4
}
